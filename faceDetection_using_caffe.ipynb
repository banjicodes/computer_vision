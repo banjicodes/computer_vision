{
 "cells": [
  {
   "cell_type": "markdown",
   "metadata": {
    "id": "069Tq96ie-54"
   },
   "source": [
    "# Face Detection Using Caffe Model\n",
    "\n",
    "**Olabanji Badejo**"
   ]
  },
  {
   "cell_type": "code",
   "execution_count": 17,
   "metadata": {
    "ExecuteTime": {
     "end_time": "2023-03-29T19:29:44.845632Z",
     "start_time": "2023-03-29T19:29:44.174282Z"
    },
    "id": "Xsy6XfzMe-6D"
   },
   "outputs": [],
   "source": [
    "# Import Libraries\n",
    "import os\n",
    "import cv2\n",
    "import sys\n",
    "from zipfile import ZipFile\n",
    "from urllib.request import urlretrieve"
   ]
  },
  {
   "cell_type": "code",
   "execution_count": 18,
   "metadata": {
    "ExecuteTime": {
     "end_time": "2023-03-29T19:29:44.861632Z",
     "start_time": "2023-03-29T19:29:44.848636Z"
    },
    "id": "O1amLVUAe-6G"
   },
   "outputs": [],
   "source": [
    "# Let's download the assets needed for this project\n",
    "\n",
    "def download_and_unzip(url, save_path):\n",
    "    print(f\"Downloading and extracting assests....\", end=\"\")\n",
    "\n",
    "    # Downloading zip file using urllib package.\n",
    "    urlretrieve(url, save_path)\n",
    "\n",
    "    try:\n",
    "        # Extracting zip file using the zipfile package.\n",
    "        with ZipFile(save_path) as z:\n",
    "            # Extract ZIP file contents in the same directory.\n",
    "            z.extractall(os.path.split(save_path)[0])\n",
    "\n",
    "        print(\"Done\")\n",
    "\n",
    "    except Exception as e:\n",
    "        print(\"\\nInvalid file.\", e)\n",
    "\n",
    "\n",
    "URL = r\"https://www.dropbox.com/s/efitgt363ada95a/opencv_bootcamp_assets_12.zip?dl=1\"\n",
    "\n",
    "asset_zip_path = os.path.join(os.getcwd(), f\"opencv_bootcamp_assets_12.zip\")\n",
    "\n",
    "# Download if asset ZIP does not exist.\n",
    "if not os.path.exists(asset_zip_path):\n",
    "    download_and_unzip(URL, asset_zip_path)\n",
    "\n",
    "# Step 1: Set video capture from available video sources\n",
    "# 'source = cv2.VideoCapture(s)' is meant to scan available video sources to use. The default is 0.\n",
    "# As at the time of writing this project, the code only works on my system if I set VideoCapture to 0.\n",
    "\n",
    "s = 0\n",
    "if len(sys.argv) > 1:\n",
    "    s = sys.argv[1]\n",
    "\n",
    "source = cv2.VideoCapture(0)\n",
    "\n",
    "win_name = \"Face Detection Preview\"\n",
    "cv2.namedWindow(win_name, cv2.WINDOW_NORMAL)\n",
    "\n",
    "# Step 2: Initialize the Caffe model and set its parameters\n",
    "\n",
    "in_width = 300\n",
    "in_height = 300\n",
    "mean = [104, 117, 123]\n",
    "conf_threshold = 0.7\n",
    "\n",
    "net = cv2.dnn.readNetFromCaffe(\"deploy.prototxt\", \"res10_300x300_ssd_iter_140000_fp16.caffemodel\")\n",
    "\n",
    "# Step 3: Let's run the model. Shall we?\n",
    "while cv2.waitKey(1) != 27:\n",
    "    has_frame, frame = source.read()\n",
    "    if not has_frame:\n",
    "        break\n",
    "    frame = cv2.flip(frame, 1)\n",
    "    frame_height = frame.shape[0]\n",
    "    frame_width = frame.shape[1]\n",
    "\n",
    "    # Create a 4D blob from the frame.\n",
    "    blob = cv2.dnn.blobFromImage(frame, 1.0, (in_width, in_height), mean, swapRB=False, crop=False)\n",
    "    # Let run a model\n",
    "    net.setInput(blob)\n",
    "    detections = net.forward()\n",
    "\n",
    "    for i in range(detections.shape[2]):\n",
    "        confidence = detections[0, 0, i, 2]\n",
    "        if confidence > conf_threshold:\n",
    "            x_left_bottom = int(detections[0, 0, i, 3] * frame_width)\n",
    "            y_left_bottom = int(detections[0, 0, i, 4] * frame_height)\n",
    "            x_right_top = int(detections[0, 0, i, 5] * frame_width)\n",
    "            y_right_top = int(detections[0, 0, i, 6] * frame_height)\n",
    "\n",
    "            cv2.rectangle(frame, (x_left_bottom, y_left_bottom), (x_right_top, y_right_top), (0, 255, 0))\n",
    "            label = \"Confidence: %.4f\" % confidence\n",
    "            label_size, base_line = cv2.getTextSize(label, cv2.FONT_HERSHEY_COMPLEX, 0.5, 1)\n",
    "\n",
    "            cv2.rectangle(\n",
    "                frame,\n",
    "                (x_left_bottom, y_left_bottom - label_size[1]),\n",
    "                (x_left_bottom + label_size[0], y_left_bottom + base_line),\n",
    "                (255, 255, 255),\n",
    "                cv2.FILLED,\n",
    "            )\n",
    "            cv2.putText(frame, label, (x_left_bottom, y_left_bottom), cv2.FONT_HERSHEY_COMPLEX, 0.5, (0, 0, 0))\n",
    "\n",
    "    t, _ = net.getPerfProfile()\n",
    "    label = \"Inference time: %.2f ms\" % (t * 1000.0 / cv2.getTickFrequency())\n",
    "    cv2.putText(frame, label, (0, 15), cv2.FONT_HERSHEY_COMPLEX, 0.5, (0, 255, 0))\n",
    "    cv2.imshow(win_name, frame)\n",
    "    \n",
    "# Step 4: Release resources\n",
    "source.release()\n",
    "cv2.destroyWindow(win_name)"
   ]
  },
  {
   "cell_type": "code",
   "execution_count": 20,
   "metadata": {},
   "outputs": [],
   "source": [
    "# Thank you"
   ]
  }
 ],
 "metadata": {
  "celltoolbar": "Slideshow",
  "colab": {
   "provenance": []
  },
  "kernelspec": {
   "display_name": "Python 3 (ipykernel)",
   "language": "python",
   "name": "python3"
  },
  "language_info": {
   "codemirror_mode": {
    "name": "ipython",
    "version": 3
   },
   "file_extension": ".py",
   "mimetype": "text/x-python",
   "name": "python",
   "nbconvert_exporter": "python",
   "pygments_lexer": "ipython3",
   "version": "3.12.7"
  },
  "toc": {
   "base_numbering": 1,
   "nav_menu": {},
   "number_sections": false,
   "sideBar": true,
   "skip_h1_title": false,
   "title_cell": "Table of Contents",
   "title_sidebar": "Contents",
   "toc_cell": false,
   "toc_position": {
    "height": "calc(100% - 180px)",
    "left": "10px",
    "top": "150px",
    "width": "159.492px"
   },
   "toc_section_display": true,
   "toc_window_display": false
  },
  "varInspector": {
   "cols": {
    "lenName": 16,
    "lenType": 16,
    "lenVar": 40
   },
   "kernels_config": {
    "python": {
     "delete_cmd_postfix": "",
     "delete_cmd_prefix": "del ",
     "library": "var_list.py",
     "varRefreshCmd": "print(var_dic_list())"
    },
    "r": {
     "delete_cmd_postfix": ") ",
     "delete_cmd_prefix": "rm(",
     "library": "var_list.r",
     "varRefreshCmd": "cat(var_dic_list()) "
    }
   },
   "types_to_exclude": [
    "module",
    "function",
    "builtin_function_or_method",
    "instance",
    "_Feature"
   ],
   "window_display": false
  }
 },
 "nbformat": 4,
 "nbformat_minor": 4
}
